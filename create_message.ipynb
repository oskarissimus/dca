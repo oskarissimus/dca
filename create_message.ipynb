{
 "cells": [
  {
   "cell_type": "code",
   "execution_count": null,
   "metadata": {},
   "outputs": [],
   "source": [
    "from dca.models.message import Message\n",
    "from dca.models.xtb import Symbol as XTBSymbol\n",
    "from dca.models.zonda import Symbol as ZondaSymbol\n",
    "\n",
    "exchange_name = \"xtb\"\n",
    "symbol_str = XTBSymbol.IBTA_UK\n",
    "desired_value_pln = 150\n",
    "\n",
    "message = Message(exchange_name=exchange_name, symbol=symbol_str, desired_value_pln=desired_value_pln)\n",
    "message.json()"
   ]
  },
  {
   "cell_type": "code",
   "execution_count": null,
   "metadata": {},
   "outputs": [],
   "source": []
  }
 ],
 "metadata": {
  "kernelspec": {
   "display_name": "Python 3.8.10 ('dca-IYkFi4F3-py3.8')",
   "language": "python",
   "name": "python3"
  },
  "language_info": {
   "codemirror_mode": {
    "name": "ipython",
    "version": 3
   },
   "file_extension": ".py",
   "mimetype": "text/x-python",
   "name": "python",
   "nbconvert_exporter": "python",
   "pygments_lexer": "ipython3",
   "version": "3.8.10"
  },
  "orig_nbformat": 4,
  "vscode": {
   "interpreter": {
    "hash": "117eda74f6c5abb7105a3d00b07f77b505468195208b25d2d85b9e8be5f77ca5"
   }
  }
 },
 "nbformat": 4,
 "nbformat_minor": 2
}
