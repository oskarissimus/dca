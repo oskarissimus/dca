{
 "cells": [
  {
   "cell_type": "code",
   "execution_count": null,
   "metadata": {},
   "outputs": [],
   "source": [
    "from dca.xAPIConnector import APIClient, loginCommand, tradeTransactionCommand\n",
    "from dca.models import TradeTransInfo\n",
    "\n",
    "userId = 123\n",
    "password = 'xxx'\n",
    "\n",
    "client = APIClient()\n",
    "    \n",
    "loginResponse = client.execute(loginCommand(userId=userId, password=password))\n",
    "print(str(loginResponse))\n",
    "\n",
    "t = TradeTransInfo(cmd=0, customComment='test', expiration=0, offset=0, order=0, price=1.23456, sl=0, symbol='EURUSD', tp=0, type=0, volume=0.01)\n",
    "trandeTransactionResponse = client.execute(tradeTransactionCommand(t))\n",
    "print(str(trandeTransactionResponse))\n"
   ]
  },
  {
   "cell_type": "code",
   "execution_count": null,
   "metadata": {},
   "outputs": [],
   "source": []
  }
 ],
 "metadata": {
  "kernelspec": {
   "display_name": "Python 3.8.10 ('dca-EHQXmVzc-py3.8')",
   "language": "python",
   "name": "python3"
  },
  "language_info": {
   "codemirror_mode": {
    "name": "ipython",
    "version": 3
   },
   "file_extension": ".py",
   "mimetype": "text/x-python",
   "name": "python",
   "nbconvert_exporter": "python",
   "pygments_lexer": "ipython3",
   "version": "3.8.10"
  },
  "orig_nbformat": 4,
  "vscode": {
   "interpreter": {
    "hash": "783631f795c98d94fb8fd4c0e64b3c218dd1f24e2c211abd8c926873915e3ea2"
   }
  }
 },
 "nbformat": 4,
 "nbformat_minor": 2
}
