{
 "cells": [
  {
   "cell_type": "code",
   "execution_count": null,
   "metadata": {},
   "outputs": [],
   "source": [
    "%load_ext dotenv\n",
    "%dotenv"
   ]
  },
  {
   "cell_type": "code",
   "execution_count": null,
   "metadata": {},
   "outputs": [],
   "source": [
    "from apscheduler.schedulers.blocking import BlockingScheduler\n",
    "from pydantic import BaseSettings\n",
    "\n",
    "from dca.models import Symbol, SymbolReturnData, TradeTransInfo\n",
    "from dca.xAPIConnector import (APIClient, getSymbolCommand, loginCommand,\n",
    "                               tradeTransactionCommand)\n",
    "\n",
    "\n",
    "class Settings(BaseSettings):\n",
    "    user_id: int\n",
    "    password: str\n",
    "\n",
    "\n",
    "class XTBClient:\n",
    "    def __init__(self, user_id, password):\n",
    "        self.client = APIClient()\n",
    "        self.client.execute(loginCommand(userId=user_id, password=password))\n",
    "    \n",
    "    def buy(self, symbol: Symbol):\n",
    "        symbol_data = self.get_symbol(symbol)\n",
    "        ask = symbol_data.ask\n",
    "        epsilon = 1\n",
    "        price = ask + epsilon\n",
    "        t = TradeTransInfo(cmd=0, customComment='', expiration=0, offset=0, order=0, price=price, sl=0, symbol=symbol.value, tp=0, type=0, volume=2)\n",
    "        return str(self.client.execute(tradeTransactionCommand(t)))\n",
    "\n",
    "    def get_symbol(self, symbol: Symbol):\n",
    "        return SymbolReturnData.parse_obj(self.client.execute(getSymbolCommand(symbol))['returnData'])\n",
    "\n",
    "settings = Settings()\n",
    "client = XTBClient(settings.user_id, settings.password)\n",
    "scheduler = BlockingScheduler()\n",
    "# scheduler.add_job(lambda: client.buy(Symbol.IBTA_UK), 'interval', seconds=5)\n",
    "scheduler.add_job(lambda: client.get_ask(Symbol.IBTA_UK), 'interval', seconds=5)\n",
    "scheduler.start()"
   ]
  },
  {
   "cell_type": "code",
   "execution_count": null,
   "metadata": {},
   "outputs": [],
   "source": []
  }
 ],
 "metadata": {
  "kernelspec": {
   "display_name": "Python 3.8.10 ('dca-EHQXmVzc-py3.8')",
   "language": "python",
   "name": "python3"
  },
  "language_info": {
   "codemirror_mode": {
    "name": "ipython",
    "version": 3
   },
   "file_extension": ".py",
   "mimetype": "text/x-python",
   "name": "python",
   "nbconvert_exporter": "python",
   "pygments_lexer": "ipython3",
   "version": "3.8.10"
  },
  "orig_nbformat": 4,
  "vscode": {
   "interpreter": {
    "hash": "783631f795c98d94fb8fd4c0e64b3c218dd1f24e2c211abd8c926873915e3ea2"
   }
  }
 },
 "nbformat": 4,
 "nbformat_minor": 2
}
