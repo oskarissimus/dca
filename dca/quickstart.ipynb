{
 "cells": [
  {
   "cell_type": "code",
   "execution_count": null,
   "metadata": {},
   "outputs": [],
   "source": [
    "%load_ext dotenv\n",
    "%dotenv"
   ]
  },
  {
   "cell_type": "code",
   "execution_count": null,
   "metadata": {},
   "outputs": [],
   "source": [
    "from pydantic import BaseSettings\n",
    "\n",
    "class Settings(BaseSettings):\n",
    "    user_id: int\n",
    "    password: str\n",
    "\n",
    "settings = Settings()\n"
   ]
  },
  {
   "cell_type": "code",
   "execution_count": 11,
   "metadata": {},
   "outputs": [
    {
     "name": "stderr",
     "output_type": "stream",
     "text": [
      "[2022-09-13 13:16:53,154][connect:79] Socket connected\n",
      "[2022-09-13 13:16:53,157][_waitingSend:93] Sent: b'{\"command\": \"login\", \"arguments\": {\"userId\": 13794983, \"password\": \"zaq1@WSX\", \"appName\": \"\"}}'\n",
      "[2022-09-13 13:16:53,346][_read:112] Received: {'status': True, 'streamSessionId': 'e41f13fffecd98b0-0000441b-0090f1a6-2b4b9a2668ae3131-1e7cf65e'}\n",
      "[2022-09-13 13:16:53,347][_waitingSend:93] Sent: b'{\"command\": \"tradeTransaction\", \"arguments\": {\"tradeTransInfo\": {\"cmd\": 0, \"customComment\": \"test\", \"expiration\": 0, \"offset\": 0, \"order\": 0, \"price\": 1000, \"sl\": 0, \"symbol\": \"CSPX.UK_9\", \"tp\": 0, \"type\": 0, \"volume\": 1}}}'\n",
      "[2022-09-13 13:16:53,481][_read:112] Received: {'status': True, 'returnData': {'order': 420369030}}\n"
     ]
    },
    {
     "name": "stdout",
     "output_type": "stream",
     "text": [
      "cmd=0 customComment='test' expiration=0 offset=0 order=0 price=Decimal('1000') sl=Decimal('0') symbol='CSPX.UK_9' tp=Decimal('0') type=0 volume=Decimal('1')\n"
     ]
    },
    {
     "data": {
      "text/plain": [
       "\"{'status': True, 'returnData': {'order': 420369030}}\""
      ]
     },
     "execution_count": 11,
     "metadata": {},
     "output_type": "execute_result"
    }
   ],
   "source": [
    "from dca.xAPIConnector import APIClient, loginCommand, tradeTransactionCommand\n",
    "from dca.models import TradeTransInfo\n",
    "\n",
    "class XTBClient:\n",
    "    def __init__(self, user_id, password):\n",
    "        self.client = APIClient()\n",
    "        self.client.execute(loginCommand(userId=user_id, password=password))\n",
    "    \n",
    "    def buy_1_snp_500(self):\n",
    "        t = TradeTransInfo(cmd=0, customComment='test', expiration=0, offset=0, order=0, price=1_000, sl=0, symbol='CSPX.UK_9', tp=0, type=0, volume=1)\n",
    "        return str(self.client.execute(tradeTransactionCommand(t)))\n",
    "\n",
    "client = XTBClient(settings.user_id, settings.password)\n",
    "client.buy_1_snp_500()"
   ]
  },
  {
   "cell_type": "code",
   "execution_count": null,
   "metadata": {},
   "outputs": [],
   "source": []
  }
 ],
 "metadata": {
  "kernelspec": {
   "display_name": "Python 3.8.10 ('dca-EHQXmVzc-py3.8')",
   "language": "python",
   "name": "python3"
  },
  "language_info": {
   "codemirror_mode": {
    "name": "ipython",
    "version": 3
   },
   "file_extension": ".py",
   "mimetype": "text/x-python",
   "name": "python",
   "nbconvert_exporter": "python",
   "pygments_lexer": "ipython3",
   "version": "3.8.10"
  },
  "orig_nbformat": 4,
  "vscode": {
   "interpreter": {
    "hash": "783631f795c98d94fb8fd4c0e64b3c218dd1f24e2c211abd8c926873915e3ea2"
   }
  }
 },
 "nbformat": 4,
 "nbformat_minor": 2
}
