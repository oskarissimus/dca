{
 "cells": [
  {
   "cell_type": "code",
   "execution_count": 2,
   "metadata": {},
   "outputs": [],
   "source": [
    "%load_ext dotenv\n",
    "%dotenv"
   ]
  },
  {
   "cell_type": "code",
   "execution_count": 4,
   "metadata": {},
   "outputs": [
    {
     "name": "stdout",
     "output_type": "stream",
     "text": [
      "13794983 zaq1@WSX\n"
     ]
    }
   ],
   "source": [
    "from pydantic import BaseSettings\n",
    "\n",
    "class Settings(BaseSettings):\n",
    "    user_id: int\n",
    "    password: str\n",
    "\n",
    "settings = Settings()\n"
   ]
  },
  {
   "cell_type": "code",
   "execution_count": 5,
   "metadata": {},
   "outputs": [
    {
     "name": "stderr",
     "output_type": "stream",
     "text": [
      "[2022-09-13 13:01:46,804][connect:79] Socket connected\n",
      "[2022-09-13 13:01:46,806][_waitingSend:93] Sent: b'{\"command\": \"login\", \"arguments\": {\"userId\": 13794983, \"password\": \"zaq1@WSX\", \"appName\": \"\"}}'\n",
      "[2022-09-13 13:01:47,506][_read:112] Received: {'status': True, 'streamSessionId': 'e41f13fffecd98b0-0000441b-0090c000-a61f857ad35de4c2-3d22f741'}\n",
      "[2022-09-13 13:01:47,508][_waitingSend:93] Sent: b'{\"command\": \"tradeTransaction\", \"arguments\": {\"tradeTransInfo\": {\"cmd\": 0, \"customComment\": \"test\", \"expiration\": 0, \"offset\": 0, \"order\": 0, \"price\": 0, \"sl\": 0, \"symbol\": \"CSPX.UK\", \"tp\": 0, \"type\": 0, \"volume\": 1}}}'\n",
      "[2022-09-13 13:01:47,609][_read:112] Received: {'status': False, 'errorCode': 'BE101', 'errorDescr': 'Symbol CSPX.UK not found!'}\n"
     ]
    },
    {
     "name": "stdout",
     "output_type": "stream",
     "text": [
      "{'status': True, 'streamSessionId': 'e41f13fffecd98b0-0000441b-0090c000-a61f857ad35de4c2-3d22f741'}\n",
      "cmd=0 customComment='test' expiration=0 offset=0 order=0 price=Decimal('0') sl=Decimal('0') symbol='CSPX.UK' tp=Decimal('0') type=0 volume=Decimal('1')\n",
      "{'status': False, 'errorCode': 'BE101', 'errorDescr': 'Symbol CSPX.UK not found!'}\n"
     ]
    }
   ],
   "source": [
    "from dca.xAPIConnector import APIClient, loginCommand, tradeTransactionCommand\n",
    "from dca.models import TradeTransInfo\n",
    "\n",
    "client = APIClient()\n",
    "    \n",
    "loginResponse = client.execute(loginCommand(userId=settings.user_id, password=settings.password))\n",
    "print(str(loginResponse))\n",
    "\n",
    "t = TradeTransInfo(cmd=0, customComment='test', expiration=0, offset=0, order=0, price=0, sl=0, symbol='CSPX.UK', tp=0, type=0, volume=1)\n",
    "\n",
    "trandeTransactionResponse = client.execute(tradeTransactionCommand(t))\n",
    "print(str(trandeTransactionResponse))\n"
   ]
  },
  {
   "cell_type": "code",
   "execution_count": null,
   "metadata": {},
   "outputs": [],
   "source": []
  }
 ],
 "metadata": {
  "kernelspec": {
   "display_name": "Python 3.8.10 ('dca-EHQXmVzc-py3.8')",
   "language": "python",
   "name": "python3"
  },
  "language_info": {
   "codemirror_mode": {
    "name": "ipython",
    "version": 3
   },
   "file_extension": ".py",
   "mimetype": "text/x-python",
   "name": "python",
   "nbconvert_exporter": "python",
   "pygments_lexer": "ipython3",
   "version": "3.8.10"
  },
  "orig_nbformat": 4,
  "vscode": {
   "interpreter": {
    "hash": "783631f795c98d94fb8fd4c0e64b3c218dd1f24e2c211abd8c926873915e3ea2"
   }
  }
 },
 "nbformat": 4,
 "nbformat_minor": 2
}
