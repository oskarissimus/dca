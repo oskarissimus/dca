{
 "cells": [
  {
   "cell_type": "code",
   "execution_count": 8,
   "metadata": {},
   "outputs": [
    {
     "data": {
      "text/plain": [
       "<Symbol.CSPX_UK: 'CSPX.UK_9'>"
      ]
     },
     "execution_count": 8,
     "metadata": {},
     "output_type": "execute_result"
    }
   ],
   "source": [
    "from dca.models import Symbol, Message\n",
    "\n",
    "raw_message = '{\"symbol\": \"IBTA.UK\", \"volume\": 6}'\n",
    "raw_message = '{\"symbol\": \"CSPX.UK_9\", \"volume\": 1}'\n",
    "message = Message.parse_raw(raw_message)\n",
    "message.symbol"
   ]
  },
  {
   "cell_type": "code",
   "execution_count": 2,
   "metadata": {},
   "outputs": [],
   "source": [
    "from enum import Enum\n",
    "class Port(int, Enum):\n",
    "    DEMO = 5124\n",
    "    REAL = 5112\n",
    "\n",
    "s = Port.DEMO"
   ]
  },
  {
   "cell_type": "code",
   "execution_count": 3,
   "metadata": {},
   "outputs": [
    {
     "data": {
      "text/plain": [
       "5124"
      ]
     },
     "execution_count": 3,
     "metadata": {},
     "output_type": "execute_result"
    }
   ],
   "source": [
    "s.value"
   ]
  },
  {
   "cell_type": "code",
   "execution_count": 11,
   "metadata": {},
   "outputs": [],
   "source": [
    "from pydantic import BaseSettings\n",
    "\n",
    "\n",
    "class Settings(BaseSettings):\n",
    "    user_id: int\n",
    "    password: str\n",
    "    port: Port"
   ]
  },
  {
   "cell_type": "code",
   "execution_count": 15,
   "metadata": {},
   "outputs": [
    {
     "ename": "ValidationError",
     "evalue": "1 validation error for Settings\nport\n  value is not a valid enumeration member; permitted: 5124, 5112 (type=type_error.enum; enum_values=[<Port.DEMO: 5124>, <Port.REAL: 5112>])",
     "output_type": "error",
     "traceback": [
      "\u001b[0;31m---------------------------------------------------------------------------\u001b[0m",
      "\u001b[0;31mValidationError\u001b[0m                           Traceback (most recent call last)",
      "Cell \u001b[0;32mIn [15], line 1\u001b[0m\n\u001b[0;32m----> 1\u001b[0m s \u001b[38;5;241m=\u001b[39m Settings(user_id\u001b[38;5;241m=\u001b[39m\u001b[38;5;241m123\u001b[39m, password\u001b[38;5;241m=\u001b[39m\u001b[38;5;124m\"\u001b[39m\u001b[38;5;124mabc\u001b[39m\u001b[38;5;124m\"\u001b[39m, port\u001b[38;5;241m=\u001b[39m\u001b[38;5;241m5113\u001b[39m)\n",
      "File \u001b[0;32m~/.cache/pypoetry/virtualenvs/dca-EHQXmVzc-py3.8/lib/python3.8/site-packages/pydantic/env_settings.py:39\u001b[0m, in \u001b[0;36mpydantic.env_settings.BaseSettings.__init__\u001b[0;34m()\u001b[0m\n",
      "File \u001b[0;32m~/.cache/pypoetry/virtualenvs/dca-EHQXmVzc-py3.8/lib/python3.8/site-packages/pydantic/main.py:342\u001b[0m, in \u001b[0;36mpydantic.main.BaseModel.__init__\u001b[0;34m()\u001b[0m\n",
      "\u001b[0;31mValidationError\u001b[0m: 1 validation error for Settings\nport\n  value is not a valid enumeration member; permitted: 5124, 5112 (type=type_error.enum; enum_values=[<Port.DEMO: 5124>, <Port.REAL: 5112>])"
     ]
    }
   ],
   "source": [
    "s = Settings(user_id=123, password=\"abc\", port=5113)"
   ]
  },
  {
   "cell_type": "code",
   "execution_count": null,
   "metadata": {},
   "outputs": [],
   "source": []
  }
 ],
 "metadata": {
  "kernelspec": {
   "display_name": "Python 3.8.10 ('dca-EHQXmVzc-py3.8')",
   "language": "python",
   "name": "python3"
  },
  "language_info": {
   "codemirror_mode": {
    "name": "ipython",
    "version": 3
   },
   "file_extension": ".py",
   "mimetype": "text/x-python",
   "name": "python",
   "nbconvert_exporter": "python",
   "pygments_lexer": "ipython3",
   "version": "3.8.10"
  },
  "orig_nbformat": 4,
  "vscode": {
   "interpreter": {
    "hash": "783631f795c98d94fb8fd4c0e64b3c218dd1f24e2c211abd8c926873915e3ea2"
   }
  }
 },
 "nbformat": 4,
 "nbformat_minor": 2
}
