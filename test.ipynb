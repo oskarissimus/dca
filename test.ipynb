{
 "cells": [
  {
   "cell_type": "code",
   "execution_count": null,
   "metadata": {},
   "outputs": [],
   "source": [
    "%load_ext dotenv\n",
    "%dotenv\n"
   ]
  },
  {
   "cell_type": "code",
   "execution_count": null,
   "metadata": {},
   "outputs": [],
   "source": [
    "from dca.models.xtb import Symbol\n",
    "from dca.settings import Settings\n",
    "from dca.clients.zonda import ZondaClient\n",
    "from dca.clients.xtb.xtb_client_wrapper import XTBClientWrapper\n",
    "\n",
    "settings = Settings()\n",
    "\n",
    "zonda_client = ZondaClient(settings.zonda_api_key, settings.zonda_api_secret)\n",
    "zonda_response = zonda_client.buy(pair=\"BTC-PLN\", amount=10, price=1)\n",
    "print(zonda_response)\n",
    "\n",
    "xtb_client = XTBClientWrapper(settings.xtb_user_id, settings.xtb_password, settings.xtb_api_port)\n",
    "xtb_client.buy(symbol=Symbol.IBTA_UK, volume=10)\n",
    "\n"
   ]
  },
  {
   "cell_type": "code",
   "execution_count": null,
   "metadata": {},
   "outputs": [],
   "source": []
  }
 ],
 "metadata": {
  "kernelspec": {
   "display_name": "Python 3.8.10 ('dca-IYkFi4F3-py3.8')",
   "language": "python",
   "name": "python3"
  },
  "language_info": {
   "codemirror_mode": {
    "name": "ipython",
    "version": 3
   },
   "file_extension": ".py",
   "mimetype": "text/x-python",
   "name": "python",
   "nbconvert_exporter": "python",
   "pygments_lexer": "ipython3",
   "version": "3.8.10"
  },
  "orig_nbformat": 4,
  "vscode": {
   "interpreter": {
    "hash": "117eda74f6c5abb7105a3d00b07f77b505468195208b25d2d85b9e8be5f77ca5"
   }
  }
 },
 "nbformat": 4,
 "nbformat_minor": 2
}
