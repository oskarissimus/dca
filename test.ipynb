{
 "cells": [
  {
   "cell_type": "code",
   "execution_count": null,
   "metadata": {},
   "outputs": [],
   "source": [
    "%load_ext dotenv\n",
    "%dotenv\n"
   ]
  },
  {
   "cell_type": "code",
   "execution_count": null,
   "metadata": {},
   "outputs": [],
   "source": [
    "from dca.models.symbol import Symbol\n",
    "from dca.settings import Settings\n",
    "from dca.clients.zonda import ZondaClient\n",
    "\n",
    "settings = Settings()\n",
    "\n",
    "zonda_client = ZondaClient(settings.zonda_api_key, settings.zonda_api_secret)\n",
    "\n",
    "response = zonda_client.buy_market(Symbol.BTC_PLN, 10)\n",
    "response\n",
    "\n"
   ]
  },
  {
   "cell_type": "code",
   "execution_count": null,
   "metadata": {},
   "outputs": [],
   "source": []
  }
 ],
 "metadata": {
  "kernelspec": {
   "display_name": "Python 3.8.10 ('dca-IYkFi4F3-py3.8')",
   "language": "python",
   "name": "python3"
  },
  "language_info": {
   "codemirror_mode": {
    "name": "ipython",
    "version": 3
   },
   "file_extension": ".py",
   "mimetype": "text/x-python",
   "name": "python",
   "nbconvert_exporter": "python",
   "pygments_lexer": "ipython3",
   "version": "3.8.10"
  },
  "orig_nbformat": 4,
  "vscode": {
   "interpreter": {
    "hash": "117eda74f6c5abb7105a3d00b07f77b505468195208b25d2d85b9e8be5f77ca5"
   }
  }
 },
 "nbformat": 4,
 "nbformat_minor": 2
}
